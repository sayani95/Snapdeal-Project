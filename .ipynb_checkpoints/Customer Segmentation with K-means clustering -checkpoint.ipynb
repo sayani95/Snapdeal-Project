{
 "cells": [
  {
   "cell_type": "code",
   "execution_count": 3,
   "id": "c7697c2a-3fd5-4e15-b9cb-55b8e16140ed",
   "metadata": {},
   "outputs": [],
   "source": [
    "#importing the dependencies\n",
    "import numpy as np\n",
    "import pandas as pd \n",
    "import matplotlib.pyplot as plt \n",
    "import seaborn as sns\n",
    "from sklearn.cluster import KMeans\n"
   ]
  },
  {
   "cell_type": "code",
   "execution_count": 9,
   "id": "f11637c2-dc53-4fd9-9354-8a3f8630f84f",
   "metadata": {},
   "outputs": [],
   "source": [
    "# Data collection\n",
    "customer_data = pd.read_csv(r'C:\\Users\\HP\\Downloads\\Snapdeal Project\\Online Retail.csv')\n"
   ]
  },
  {
   "cell_type": "code",
   "execution_count": 10,
   "id": "83a59612-b094-4877-bcc6-43b8c443d732",
   "metadata": {},
   "outputs": [
    {
     "data": {
      "text/html": [
       "<div>\n",
       "<style scoped>\n",
       "    .dataframe tbody tr th:only-of-type {\n",
       "        vertical-align: middle;\n",
       "    }\n",
       "\n",
       "    .dataframe tbody tr th {\n",
       "        vertical-align: top;\n",
       "    }\n",
       "\n",
       "    .dataframe thead th {\n",
       "        text-align: right;\n",
       "    }\n",
       "</style>\n",
       "<table border=\"1\" class=\"dataframe\">\n",
       "  <thead>\n",
       "    <tr style=\"text-align: right;\">\n",
       "      <th></th>\n",
       "      <th>InvoiceNo</th>\n",
       "      <th>StockCode</th>\n",
       "      <th>Description</th>\n",
       "      <th>Quantity</th>\n",
       "      <th>InvoiceDate</th>\n",
       "      <th>UnitPrice</th>\n",
       "      <th>CustomerID</th>\n",
       "      <th>Country</th>\n",
       "    </tr>\n",
       "  </thead>\n",
       "  <tbody>\n",
       "    <tr>\n",
       "      <th>0</th>\n",
       "      <td>536365</td>\n",
       "      <td>85123A</td>\n",
       "      <td>WHITE HANGING HEART T-LIGHT HOLDER</td>\n",
       "      <td>6</td>\n",
       "      <td>12/1/2010 8:26</td>\n",
       "      <td>2.55</td>\n",
       "      <td>17850.0</td>\n",
       "      <td>United Kingdom</td>\n",
       "    </tr>\n",
       "    <tr>\n",
       "      <th>1</th>\n",
       "      <td>536365</td>\n",
       "      <td>71053</td>\n",
       "      <td>WHITE METAL LANTERN</td>\n",
       "      <td>6</td>\n",
       "      <td>12/1/2010 8:26</td>\n",
       "      <td>3.39</td>\n",
       "      <td>17850.0</td>\n",
       "      <td>United Kingdom</td>\n",
       "    </tr>\n",
       "    <tr>\n",
       "      <th>2</th>\n",
       "      <td>536365</td>\n",
       "      <td>84406B</td>\n",
       "      <td>CREAM CUPID HEARTS COAT HANGER</td>\n",
       "      <td>8</td>\n",
       "      <td>12/1/2010 8:26</td>\n",
       "      <td>2.75</td>\n",
       "      <td>17850.0</td>\n",
       "      <td>United Kingdom</td>\n",
       "    </tr>\n",
       "    <tr>\n",
       "      <th>3</th>\n",
       "      <td>536365</td>\n",
       "      <td>84029G</td>\n",
       "      <td>KNITTED UNION FLAG HOT WATER BOTTLE</td>\n",
       "      <td>6</td>\n",
       "      <td>12/1/2010 8:26</td>\n",
       "      <td>3.39</td>\n",
       "      <td>17850.0</td>\n",
       "      <td>United Kingdom</td>\n",
       "    </tr>\n",
       "    <tr>\n",
       "      <th>4</th>\n",
       "      <td>536365</td>\n",
       "      <td>84029E</td>\n",
       "      <td>RED WOOLLY HOTTIE WHITE HEART.</td>\n",
       "      <td>6</td>\n",
       "      <td>12/1/2010 8:26</td>\n",
       "      <td>3.39</td>\n",
       "      <td>17850.0</td>\n",
       "      <td>United Kingdom</td>\n",
       "    </tr>\n",
       "  </tbody>\n",
       "</table>\n",
       "</div>"
      ],
      "text/plain": [
       "  InvoiceNo StockCode                          Description  Quantity  \\\n",
       "0    536365    85123A   WHITE HANGING HEART T-LIGHT HOLDER         6   \n",
       "1    536365     71053                  WHITE METAL LANTERN         6   \n",
       "2    536365    84406B       CREAM CUPID HEARTS COAT HANGER         8   \n",
       "3    536365    84029G  KNITTED UNION FLAG HOT WATER BOTTLE         6   \n",
       "4    536365    84029E       RED WOOLLY HOTTIE WHITE HEART.         6   \n",
       "\n",
       "      InvoiceDate  UnitPrice  CustomerID         Country  \n",
       "0  12/1/2010 8:26       2.55     17850.0  United Kingdom  \n",
       "1  12/1/2010 8:26       3.39     17850.0  United Kingdom  \n",
       "2  12/1/2010 8:26       2.75     17850.0  United Kingdom  \n",
       "3  12/1/2010 8:26       3.39     17850.0  United Kingdom  \n",
       "4  12/1/2010 8:26       3.39     17850.0  United Kingdom  "
      ]
     },
     "execution_count": 10,
     "metadata": {},
     "output_type": "execute_result"
    }
   ],
   "source": [
    "# first 5 rows in the dataframe \n",
    "customer_data.head()"
   ]
  },
  {
   "cell_type": "code",
   "execution_count": 15,
   "id": "e4a8b68e-72f1-413a-966f-ca8f49f95de8",
   "metadata": {},
   "outputs": [
    {
     "data": {
      "text/plain": [
       "(541909, 8)"
      ]
     },
     "execution_count": 15,
     "metadata": {},
     "output_type": "execute_result"
    }
   ],
   "source": [
    "# finding the number of rows of columns \n",
    "customer_data . shape"
   ]
  },
  {
   "cell_type": "code",
   "execution_count": 17,
   "id": "056bc6f0-a68f-4d9f-976a-61153819f5e6",
   "metadata": {},
   "outputs": [
    {
     "name": "stdout",
     "output_type": "stream",
     "text": [
      "<class 'pandas.core.frame.DataFrame'>\n",
      "RangeIndex: 541909 entries, 0 to 541908\n",
      "Data columns (total 8 columns):\n",
      " #   Column       Non-Null Count   Dtype  \n",
      "---  ------       --------------   -----  \n",
      " 0   InvoiceNo    541909 non-null  object \n",
      " 1   StockCode    541909 non-null  object \n",
      " 2   Description  540455 non-null  object \n",
      " 3   Quantity     541909 non-null  int64  \n",
      " 4   InvoiceDate  541909 non-null  object \n",
      " 5   UnitPrice    541909 non-null  float64\n",
      " 6   CustomerID   406829 non-null  float64\n",
      " 7   Country      541909 non-null  object \n",
      "dtypes: float64(2), int64(1), object(5)\n",
      "memory usage: 33.1+ MB\n"
     ]
    }
   ],
   "source": [
    "# getting information about the data\n",
    "customer_data.info()"
   ]
  },
  {
   "cell_type": "code",
   "execution_count": 20,
   "id": "a923c920-2842-4605-8f08-1ac52f32c1c6",
   "metadata": {},
   "outputs": [
    {
     "data": {
      "text/html": [
       "<div>\n",
       "<style scoped>\n",
       "    .dataframe tbody tr th:only-of-type {\n",
       "        vertical-align: middle;\n",
       "    }\n",
       "\n",
       "    .dataframe tbody tr th {\n",
       "        vertical-align: top;\n",
       "    }\n",
       "\n",
       "    .dataframe thead th {\n",
       "        text-align: right;\n",
       "    }\n",
       "</style>\n",
       "<table border=\"1\" class=\"dataframe\">\n",
       "  <thead>\n",
       "    <tr style=\"text-align: right;\">\n",
       "      <th></th>\n",
       "      <th>Quantity</th>\n",
       "      <th>UnitPrice</th>\n",
       "      <th>CustomerID</th>\n",
       "    </tr>\n",
       "  </thead>\n",
       "  <tbody>\n",
       "    <tr>\n",
       "      <th>count</th>\n",
       "      <td>541909.000000</td>\n",
       "      <td>541909.000000</td>\n",
       "      <td>406829.000000</td>\n",
       "    </tr>\n",
       "    <tr>\n",
       "      <th>mean</th>\n",
       "      <td>9.552250</td>\n",
       "      <td>4.611114</td>\n",
       "      <td>15287.690570</td>\n",
       "    </tr>\n",
       "    <tr>\n",
       "      <th>std</th>\n",
       "      <td>218.081158</td>\n",
       "      <td>96.759853</td>\n",
       "      <td>1713.600303</td>\n",
       "    </tr>\n",
       "    <tr>\n",
       "      <th>min</th>\n",
       "      <td>-80995.000000</td>\n",
       "      <td>-11062.060000</td>\n",
       "      <td>12346.000000</td>\n",
       "    </tr>\n",
       "    <tr>\n",
       "      <th>25%</th>\n",
       "      <td>1.000000</td>\n",
       "      <td>1.250000</td>\n",
       "      <td>13953.000000</td>\n",
       "    </tr>\n",
       "    <tr>\n",
       "      <th>50%</th>\n",
       "      <td>3.000000</td>\n",
       "      <td>2.080000</td>\n",
       "      <td>15152.000000</td>\n",
       "    </tr>\n",
       "    <tr>\n",
       "      <th>75%</th>\n",
       "      <td>10.000000</td>\n",
       "      <td>4.130000</td>\n",
       "      <td>16791.000000</td>\n",
       "    </tr>\n",
       "    <tr>\n",
       "      <th>max</th>\n",
       "      <td>80995.000000</td>\n",
       "      <td>38970.000000</td>\n",
       "      <td>18287.000000</td>\n",
       "    </tr>\n",
       "  </tbody>\n",
       "</table>\n",
       "</div>"
      ],
      "text/plain": [
       "            Quantity      UnitPrice     CustomerID\n",
       "count  541909.000000  541909.000000  406829.000000\n",
       "mean        9.552250       4.611114   15287.690570\n",
       "std       218.081158      96.759853    1713.600303\n",
       "min    -80995.000000  -11062.060000   12346.000000\n",
       "25%         1.000000       1.250000   13953.000000\n",
       "50%         3.000000       2.080000   15152.000000\n",
       "75%        10.000000       4.130000   16791.000000\n",
       "max     80995.000000   38970.000000   18287.000000"
      ]
     },
     "execution_count": 20,
     "metadata": {},
     "output_type": "execute_result"
    }
   ],
   "source": [
    "#getting the description of the data set\n",
    "customer_data.describe()\n"
   ]
  },
  {
   "cell_type": "code",
   "execution_count": 21,
   "id": "3503c75a-a4eb-4d00-a5e9-05903d5a62cc",
   "metadata": {},
   "outputs": [
    {
     "data": {
      "text/plain": [
       "InvoiceNo           0\n",
       "StockCode           0\n",
       "Description      1454\n",
       "Quantity            0\n",
       "InvoiceDate         0\n",
       "UnitPrice           0\n",
       "CustomerID     135080\n",
       "Country             0\n",
       "dtype: int64"
      ]
     },
     "execution_count": 21,
     "metadata": {},
     "output_type": "execute_result"
    }
   ],
   "source": [
    "# checking whether is any missing value or not\n",
    "customer_data.isnull().sum()"
   ]
  },
  {
   "cell_type": "code",
   "execution_count": 32,
   "id": "3388bb25-545e-42df-9588-4eea6a3873b8",
   "metadata": {},
   "outputs": [],
   "source": [
    "# lets fill the description\n",
    "customer_data['Description'].fillna('Unknown', inplace=True)\n",
    "# lets drop the column customerID\n",
    "df=customer_data.drop(columns=['CustomerID'])\n",
    "\n"
   ]
  },
  {
   "cell_type": "code",
   "execution_count": 33,
   "id": "f5fbb306-024a-4ce8-b258-077eeb32c029",
   "metadata": {},
   "outputs": [
    {
     "data": {
      "text/plain": [
       "InvoiceNo      0\n",
       "StockCode      0\n",
       "Description    0\n",
       "Quantity       0\n",
       "InvoiceDate    0\n",
       "UnitPrice      0\n",
       "Country        0\n",
       "dtype: int64"
      ]
     },
     "execution_count": 33,
     "metadata": {},
     "output_type": "execute_result"
    }
   ],
   "source": [
    "df.isnull().sum()"
   ]
  },
  {
   "cell_type": "code",
   "execution_count": 40,
   "id": "3fce6e31-7a74-4439-9f4d-ae37115f30f8",
   "metadata": {},
   "outputs": [
    {
     "name": "stdout",
     "output_type": "stream",
     "text": [
      "0         False\n",
      "1          True\n",
      "2          True\n",
      "3          True\n",
      "4          True\n",
      "          ...  \n",
      "541904     True\n",
      "541905     True\n",
      "541906     True\n",
      "541907     True\n",
      "541908     True\n",
      "Length: 541909, dtype: bool\n"
     ]
    }
   ],
   "source": [
    "# checking duplicates if present on specific columns only\n",
    "duplicate_mask = df.duplicated(subset=['InvoiceNo'])\n",
    "print(duplicate_mask)\n",
    "\n"
   ]
  },
  {
   "cell_type": "code",
   "execution_count": 41,
   "id": "3abbb862-3b21-43a0-b2ed-204c970bbcaa",
   "metadata": {},
   "outputs": [
    {
     "name": "stdout",
     "output_type": "stream",
     "text": [
      "       InvoiceNo StockCode                          Description  Quantity  \\\n",
      "1         536365     71053                  WHITE METAL LANTERN         6   \n",
      "2         536365    84406B       CREAM CUPID HEARTS COAT HANGER         8   \n",
      "3         536365    84029G  KNITTED UNION FLAG HOT WATER BOTTLE         6   \n",
      "4         536365    84029E       RED WOOLLY HOTTIE WHITE HEART.         6   \n",
      "5         536365     22752         SET 7 BABUSHKA NESTING BOXES         2   \n",
      "...          ...       ...                                  ...       ...   \n",
      "541904    581587     22613          PACK OF 20 SPACEBOY NAPKINS        12   \n",
      "541905    581587     22899         CHILDREN'S APRON DOLLY GIRL          6   \n",
      "541906    581587     23254        CHILDRENS CUTLERY DOLLY GIRL          4   \n",
      "541907    581587     23255      CHILDRENS CUTLERY CIRCUS PARADE         4   \n",
      "541908    581587     22138        BAKING SET 9 PIECE RETROSPOT          3   \n",
      "\n",
      "            InvoiceDate  UnitPrice         Country  \n",
      "1        12/1/2010 8:26       3.39  United Kingdom  \n",
      "2        12/1/2010 8:26       2.75  United Kingdom  \n",
      "3        12/1/2010 8:26       3.39  United Kingdom  \n",
      "4        12/1/2010 8:26       3.39  United Kingdom  \n",
      "5        12/1/2010 8:26       7.65  United Kingdom  \n",
      "...                 ...        ...             ...  \n",
      "541904  12/9/2011 12:50       0.85          France  \n",
      "541905  12/9/2011 12:50       2.10          France  \n",
      "541906  12/9/2011 12:50       4.15          France  \n",
      "541907  12/9/2011 12:50       4.15          France  \n",
      "541908  12/9/2011 12:50       4.95          France  \n",
      "\n",
      "[516009 rows x 7 columns]\n"
     ]
    }
   ],
   "source": [
    "# let see the duplicate rows only\n",
    "duplicate_rows = df[duplicate_mask]\n",
    "print(duplicate_rows)\n"
   ]
  },
  {
   "cell_type": "code",
   "execution_count": 42,
   "id": "09b59604-3450-4bc9-ae66-a227dc71a783",
   "metadata": {},
   "outputs": [
    {
     "name": "stdout",
     "output_type": "stream",
     "text": [
      "       InvoiceNo StockCode                          Description  Quantity  \\\n",
      "0         536365    85123A   WHITE HANGING HEART T-LIGHT HOLDER         6   \n",
      "7         536366     22633               HAND WARMER UNION JACK         6   \n",
      "9         536367     84879        ASSORTED COLOUR BIRD ORNAMENT        32   \n",
      "21        536368     22960             JAM MAKING SET WITH JARS         6   \n",
      "25        536369     21756             BATH BUILDING BLOCK WORD         3   \n",
      "...          ...       ...                                  ...       ...   \n",
      "541865    581583     20725              LUNCH BAG RED RETROSPOT        40   \n",
      "541867    581584     20832     RED FLOCK LOVE HEART PHOTO FRAME        72   \n",
      "541869    581585     22481       BLACK TEA TOWEL CLASSIC DESIGN        12   \n",
      "541890    581586     22061  LARGE CAKE STAND  HANGING STRAWBERY         8   \n",
      "541894    581587     22631             CIRCUS PARADE LUNCH BOX         12   \n",
      "\n",
      "            InvoiceDate  UnitPrice         Country  \n",
      "0        12/1/2010 8:26       2.55  United Kingdom  \n",
      "7        12/1/2010 8:28       1.85  United Kingdom  \n",
      "9        12/1/2010 8:34       1.69  United Kingdom  \n",
      "21       12/1/2010 8:34       4.25  United Kingdom  \n",
      "25       12/1/2010 8:35       5.95  United Kingdom  \n",
      "...                 ...        ...             ...  \n",
      "541865  12/9/2011 12:23       1.45  United Kingdom  \n",
      "541867  12/9/2011 12:25       0.72  United Kingdom  \n",
      "541869  12/9/2011 12:31       0.39  United Kingdom  \n",
      "541890  12/9/2011 12:49       2.95  United Kingdom  \n",
      "541894  12/9/2011 12:50       1.95          France  \n",
      "\n",
      "[25900 rows x 7 columns]\n"
     ]
    }
   ],
   "source": [
    "#drop the duplicate rows\n",
    "df_cleaned = df.drop_duplicates(subset=['InvoiceNo'], keep='first')\n",
    "print (df_cleaned)"
   ]
  },
  {
   "cell_type": "code",
   "execution_count": 43,
   "id": "2c3a9f30-ad2e-4e6c-8261-dc0ce3bcc18c",
   "metadata": {},
   "outputs": [
    {
     "name": "stdout",
     "output_type": "stream",
     "text": [
      "       InvoiceNo StockCode                          Description  Quantity  \\\n",
      "0         536365    85123A   WHITE HANGING HEART T-LIGHT HOLDER         6   \n",
      "7         536366     22633               HAND WARMER UNION JACK         6   \n",
      "9         536367     84879        ASSORTED COLOUR BIRD ORNAMENT        32   \n",
      "21        536368     22960             JAM MAKING SET WITH JARS         6   \n",
      "25        536369     21756             BATH BUILDING BLOCK WORD         3   \n",
      "...          ...       ...                                  ...       ...   \n",
      "541865    581583     20725              LUNCH BAG RED RETROSPOT        40   \n",
      "541867    581584     20832     RED FLOCK LOVE HEART PHOTO FRAME        72   \n",
      "541869    581585     22481       BLACK TEA TOWEL CLASSIC DESIGN        12   \n",
      "541890    581586     22061  LARGE CAKE STAND  HANGING STRAWBERY         8   \n",
      "541894    581587     22631             CIRCUS PARADE LUNCH BOX         12   \n",
      "\n",
      "            InvoiceDate  UnitPrice         Country  \n",
      "0        12/1/2010 8:26       2.55  United Kingdom  \n",
      "7        12/1/2010 8:28       1.85  United Kingdom  \n",
      "9        12/1/2010 8:34       1.69  United Kingdom  \n",
      "21       12/1/2010 8:34       4.25  United Kingdom  \n",
      "25       12/1/2010 8:35       5.95  United Kingdom  \n",
      "...                 ...        ...             ...  \n",
      "541865  12/9/2011 12:23       1.45  United Kingdom  \n",
      "541867  12/9/2011 12:25       0.72  United Kingdom  \n",
      "541869  12/9/2011 12:31       0.39  United Kingdom  \n",
      "541890  12/9/2011 12:49       2.95  United Kingdom  \n",
      "541894  12/9/2011 12:50       1.95          France  \n",
      "\n",
      "[25900 rows x 7 columns]\n"
     ]
    }
   ],
   "source": [
    "# let optimize the column  types \n",
    "customer_data = df_cleaned.convert_dtypes()\n",
    "print(customer_data)\n"
   ]
  },
  {
   "cell_type": "code",
   "execution_count": 46,
   "id": "78ad6b56-c99c-4ef4-b1a9-275a75d770ba",
   "metadata": {},
   "outputs": [
    {
     "name": "stdout",
     "output_type": "stream",
     "text": [
      "       Quantity  UnitPrice\n",
      "0     -0.008077  -0.044565\n",
      "1     -0.008077  -0.046178\n",
      "2      0.018268  -0.046547\n",
      "3     -0.008077  -0.040646\n",
      "4     -0.011117  -0.036728\n",
      "...         ...        ...\n",
      "25895  0.026375  -0.047100\n",
      "25896  0.058800  -0.048783\n",
      "25897 -0.001997  -0.049543\n",
      "25898 -0.006050  -0.043643\n",
      "25899 -0.001997  -0.045948\n",
      "\n",
      "[25900 rows x 2 columns]\n"
     ]
    }
   ],
   "source": [
    "# standarise the data \n",
    "numeric_cols = customer_data.select_dtypes(include='number').columns\n",
    "scaled_array = std.fit_transform(customer_data[numeric_cols])\n",
    "df_std = pd.DataFrame(scaled_array, columns=numeric_cols)\n",
    "print (df_std)"
   ]
  },
  {
   "cell_type": "code",
   "execution_count": null,
   "id": "23cb2b23-e58f-40cc-ade7-48661383dfef",
   "metadata": {},
   "outputs": [],
   "source": [
    "# One-hot encode the 'Country' column, dropping the first category to avoid redundancy\n",
    "df_encoded = pd.get_dummies(\n",
    "    customer_data,\n",
    "    columns=['Country'],\n",
    "    drop_first=True,\n",
    "    dtype=int\n",
    ")\n"
   ]
  },
  {
   "cell_type": "code",
   "execution_count": null,
   "id": "60838afd-4966-4f8f-aab0-2b28b5a52ab4",
   "metadata": {},
   "outputs": [],
   "source": [
    "# Combine standardized numeric data with encoded categorical data\n",
    "df_preprocessed = pd.concat([df_std, df_encoded], axis=1)\n",
    "df_preprocessed['InvoiceDate'] = customer_data['InvoiceDate']\n",
    "print(df_preprocessed)"
   ]
  },
  {
   "cell_type": "code",
   "execution_count": null,
   "id": "70e8f650-e6dd-4a7a-bea0-1ba31e89fd64",
   "metadata": {},
   "outputs": [],
   "source": [
    "#creating new feature\n",
    "# Ensure it's a datetime type\n",
    "df_preprocessed['InvoiceDate'] = pd.to_datetime(df_preprocessed['InvoiceDate'])\n",
    "\n",
    "# Extract date-based features\n",
    "df_preprocessed['DayOfWeek'] = df_preprocessed['InvoiceDate'].dt.dayofweek\n",
    "df_preprocessed['IsWeekend']  = df_preprocessed['DayOfWeek'].isin([5, 6]).astype(int)\n",
    "df_preprocessed['Month']      = df_preprocessed['InvoiceDate'].dt.month\n"
   ]
  }
 ],
 "metadata": {
  "kernelspec": {
   "display_name": "Python 3 (ipykernel)",
   "language": "python",
   "name": "python3"
  },
  "language_info": {
   "codemirror_mode": {
    "name": "ipython",
    "version": 3
   },
   "file_extension": ".py",
   "mimetype": "text/x-python",
   "name": "python",
   "nbconvert_exporter": "python",
   "pygments_lexer": "ipython3",
   "version": "3.13.5"
  }
 },
 "nbformat": 4,
 "nbformat_minor": 5
}
